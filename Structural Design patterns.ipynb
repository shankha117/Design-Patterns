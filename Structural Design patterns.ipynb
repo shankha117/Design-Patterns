{
 "cells": [
  {
   "cell_type": "markdown",
   "metadata": {},
   "source": [
    "#        ----------------------------- DESIGN PATTERNS -----------------------\n",
    "#        ______STRUCTURAL PATTERNS"
   ]
  },
  {
   "cell_type": "markdown",
   "metadata": {},
   "source": [
    "## Decoraters"
   ]
  },
  {
   "cell_type": "code",
   "execution_count": 22,
   "metadata": {},
   "outputs": [],
   "source": [
    "from functools import wraps\n",
    "\n",
    "def make_blink(function):\n",
    "    \"\"\"Defines the decorator\"\"\"\n",
    "\n",
    "    #This makes the decorator transparent in terms of its name and docstring\n",
    "    @wraps(function)\n",
    "    \n",
    "    \n",
    "    #Define the inner function\n",
    "    def decorator():\n",
    "        print(function)\n",
    "        #Grab the return value of the function being decorated\n",
    "        ret = function() \n",
    "\n",
    "        #Add new functionality to the function being decorated\n",
    "        return \"<blink>\" + ret + \"</blink>\"\n",
    "\n",
    "    return decorator"
   ]
  },
  {
   "cell_type": "code",
   "execution_count": 23,
   "metadata": {},
   "outputs": [
    {
     "name": "stdout",
     "output_type": "stream",
     "text": [
      "<function hello_world at 0x7fb99d2b36a8>\n",
      "<blink>Hello, World!</blink>\n"
     ]
    }
   ],
   "source": [
    "#Apply the decorator here!\n",
    "@make_blink\n",
    "def hello_world():\n",
    "    \"\"\"Original function! \"\"\"\n",
    "\n",
    "    return \"Hello, World!\"\n",
    "\n",
    "#Check the result of decorating\n",
    "print(hello_world())"
   ]
  },
  {
   "cell_type": "code",
   "execution_count": 24,
   "metadata": {},
   "outputs": [
    {
     "name": "stdout",
     "output_type": "stream",
     "text": [
      "hello_world\n",
      "Original function! \n",
      "make_blink\n"
     ]
    }
   ],
   "source": [
    "#Check if the function name is still the same name of the function being decorated\n",
    "print(hello_world.__name__)\n",
    "\n",
    "#Check if the docstring is still the same as that of the function being decorated\n",
    "print(hello_world.__doc__)\n",
    "\n",
    "\n",
    "print(make_blink.__name__)"
   ]
  },
  {
   "cell_type": "markdown",
   "metadata": {},
   "source": [
    "### my own"
   ]
  },
  {
   "cell_type": "code",
   "execution_count": null,
   "metadata": {},
   "outputs": [],
   "source": [
    "def cal_vol(f):\n",
    "    # wrap the function\n",
    "    @wraps(f)    \n",
    "    def decoretor(w,l):\n",
    "        if(w%l == 0):\n",
    "            return f(w,l,True)\n",
    "        else:\n",
    "            return f(w,l,False)\n",
    "    return decoretor"
   ]
  },
  {
   "cell_type": "code",
   "execution_count": null,
   "metadata": {},
   "outputs": [],
   "source": [
    "@cal_vol\n",
    "def calculate(w,l,*args):\n",
    "    vol = w*l\n",
    "    print(vol)\n",
    "    print(\"some additional features\")\n",
    "    print(args[0])\n",
    "#     print(\"w--\",w)\n",
    "#     print(\"l--\",l)\n",
    "#     print(\"vol--\",vol)"
   ]
  },
  {
   "cell_type": "code",
   "execution_count": null,
   "metadata": {},
   "outputs": [],
   "source": [
    "calculate(4,2)"
   ]
  },
  {
   "cell_type": "code",
   "execution_count": null,
   "metadata": {},
   "outputs": [],
   "source": [
    "def smart_divide(func):\n",
    "    def inner(a,b):\n",
    "        print(\"I am going to divide\",a,\"and\",b)\n",
    "        if b == 0:\n",
    "            print(\"Whoops! cannot divide\")\n",
    "            return\n",
    "        return func(a,b)\n",
    "    return inner\n",
    "\n",
    "@smart_divide\n",
    "def divide(a,b):\n",
    "    print(\"-------\",a,b)\n",
    "    return a/b"
   ]
  },
  {
   "cell_type": "code",
   "execution_count": null,
   "metadata": {},
   "outputs": [],
   "source": [
    "divide(3,0)"
   ]
  },
  {
   "cell_type": "code",
   "execution_count": null,
   "metadata": {},
   "outputs": [],
   "source": [
    "def validate_summary(f):\n",
    "    # wrap the function\n",
    "    @wraps(f)    \n",
    "    def decoretor(*args, **kwargs):\n",
    "        data = f(*args,**kwargs)\n",
    "        \n",
    "        print(\"------------\",len(data[\"summary\"]))\n",
    "        MAX = 0\n",
    "        while True:\n",
    "            if len(data[\"summary\"]) > 16 and MAX < 3:\n",
    "                print(\"CALLING {} TIME\".format(MAX+1))\n",
    "                MAX +=1\n",
    "                print(\"continue\")\n",
    "                continue                \n",
    "            break\n",
    "        if(MAX >= 3):\n",
    "            return \"Cant Process This summary\"\n",
    "            raise ValueError(\"Summary too long\") \n",
    "            \n",
    "        else:\n",
    "            return f(*args, **kwargs)\n",
    "            \n",
    "                       \n",
    "\n",
    "#         return f(*args,**kwargs)\n",
    "        \n",
    "    return decoretor"
   ]
  },
  {
   "cell_type": "code",
   "execution_count": null,
   "metadata": {},
   "outputs": [],
   "source": [
    "@validate_summary\n",
    "def fetch_customer_data():\n",
    "    data = {\"summary\":\"this \"}\n",
    "#     print(\"-------now returning\")\n",
    "    return data\n",
    "@validate_summary\n",
    "def query_orders(criteria,orderno):\n",
    "#     data = {\"orderno\":5,\"summary\":\"this is my order\"}\n",
    "#     print(\"now returning\")\n",
    "    return criteria\n",
    "\n",
    "@validate_summary\n",
    "def create_invoice(params,invoice_number):\n",
    "#     print(\"now returning\")\n",
    "    return params"
   ]
  },
  {
   "cell_type": "code",
   "execution_count": null,
   "metadata": {},
   "outputs": [],
   "source": [
    "fetch_customer_data()"
   ]
  },
  {
   "cell_type": "code",
   "execution_count": null,
   "metadata": {},
   "outputs": [],
   "source": [
    "# fetch_customer_data()"
   ]
  },
  {
   "cell_type": "code",
   "execution_count": null,
   "metadata": {},
   "outputs": [],
   "source": [
    "cri = data = {\"orderno\":5,\"summary\":\"fdsdfs \"}\n",
    "\n",
    "abc = query_orders(cri,6)"
   ]
  },
  {
   "cell_type": "code",
   "execution_count": null,
   "metadata": {},
   "outputs": [],
   "source": [
    "abc"
   ]
  },
  {
   "cell_type": "code",
   "execution_count": null,
   "metadata": {},
   "outputs": [],
   "source": [
    "params = {\"money\":250,\"summary\":\"this is comkshdnsadlnaosdoasdoas sojdoasdonas nmn asjdoasod\"}\n",
    "abcd = create_invoice(params,150)"
   ]
  },
  {
   "cell_type": "code",
   "execution_count": null,
   "metadata": {},
   "outputs": [],
   "source": [
    "abcd"
   ]
  },
  {
   "cell_type": "markdown",
   "metadata": {},
   "source": [
    "## Proxy"
   ]
  },
  {
   "cell_type": "code",
   "execution_count": 4,
   "metadata": {},
   "outputs": [],
   "source": [
    "import time\n",
    "\n",
    "class Producer:\n",
    "    \"\"\"Define the 'resource-intensive' object to instantiate!\"\"\"\n",
    "    def produce(self):\n",
    "        print(\"Producer is working hard!\")\n",
    "\n",
    "    def meet(self):\n",
    "        print(\"Producer has time to meet you now!\")"
   ]
  },
  {
   "cell_type": "code",
   "execution_count": 8,
   "metadata": {},
   "outputs": [],
   "source": [
    "class Proxy:\n",
    "    \"\"\"\"Define the 'relatively less resource-intensive' proxy to instantiate as a middleman\"\"\"\n",
    "    def __init__(self):  \n",
    "        self.occupied = 'No'\n",
    "        self.producer = None\n",
    "\n",
    "    def produce(self):\n",
    "        \"\"\"Check if Producer is available\"\"\"\n",
    "        print(\"Artist checking if Producer is available ...\")\n",
    "\n",
    "        if self.occupied == 'No':\n",
    "            #If the producer is available, create a producer object!\n",
    "            self.producer  = Producer()\n",
    "            time.sleep(2)\n",
    "            #Make the prodcuer meet the guest!\n",
    "            self.producer.meet()\n",
    "            self.producer.produce()\n",
    "\n",
    "        else:\n",
    "            #Otherwise, don't instantiate a producer \n",
    "            time.sleep(2)\n",
    "            print(\"Producer is busy!\")"
   ]
  },
  {
   "cell_type": "code",
   "execution_count": 9,
   "metadata": {},
   "outputs": [
    {
     "name": "stdout",
     "output_type": "stream",
     "text": [
      "Artist checking if Producer is available ...\n",
      "Producer has time to meet you now!\n",
      "Producer is working hard!\n"
     ]
    }
   ],
   "source": [
    "#Instantiate a Proxy\n",
    "p = Proxy()\n",
    "\n",
    "# #Make the proxy: Artist produce until Producer is available\n",
    "p.produce()\n",
    "\n",
    "#Change the state to 'occupied'\n",
    "# p.occupied = 'Yes'\n",
    "\n",
    "#Make the Producer produce\n",
    "# p.produce()"
   ]
  },
  {
   "cell_type": "markdown",
   "metadata": {},
   "source": [
    "##  Adapter Pattern"
   ]
  },
  {
   "cell_type": "code",
   "execution_count": 1,
   "metadata": {},
   "outputs": [],
   "source": [
    "class SpeechMatics(object):\n",
    "    def __init__(self,**kwargs):\n",
    "        self._stt_name = \"speechmatics\"\n",
    "        self._sm_url = kwargs['url']\n",
    "        self._sm_params = \"newparams\"\n",
    "        self._diarization = kwargs['diarization']\n",
    "        self._sm_param = \"sm_param\"\n",
    "    def send_audio(self,data):\n",
    "        data = \"somedata sent\"\n",
    "        idd = \"transcribing\"\n",
    "        return idd\n",
    "    def get_data(self,sm_id):\n",
    "        get_data_sm = \"transcribing with SM\"\n",
    "        return get_data_sm\n",
    "    def transcribe_with_sm(self,data):\n",
    "        idd = self.send_audio(data)\n",
    "        data = self.get_data(idd)\n",
    "        return data"
   ]
  },
  {
   "cell_type": "code",
   "execution_count": 2,
   "metadata": {},
   "outputs": [],
   "source": [
    "class Microsoft(object):\n",
    "    def __init__(self,**kwargs):\n",
    "        self._stt_name = \"microsoft\"\n",
    "        self._mics_url = kwargs['url']\n",
    "        self._sm_params = \"newparams_ms\"\n",
    "        self._output = kwargs['output_type']\n",
    "        self._mics_param = \"mics_param\"\n",
    "    def send_audio(self,data):\n",
    "        data = \"somedata sent\"\n",
    "        idd = \"transcribing\"\n",
    "        return idd\n",
    "    def get_data(self,sm_id):\n",
    "        get_data_sm = \"transcribing with MicS\"\n",
    "        return get_data_sm\n",
    "    def transcribe_with_ms(self,data):\n",
    "        idd = self.send_audio(data)\n",
    "        data = self.get_data(idd)\n",
    "        return data"
   ]
  },
  {
   "cell_type": "code",
   "execution_count": 3,
   "metadata": {},
   "outputs": [],
   "source": [
    "class Adapter(object):\n",
    "    \n",
    "    def __init__(self, dobject,**adapter_method):\n",
    "        \n",
    "        self._object = dobject\n",
    "#         print(adapter_method)\n",
    "#         print(\"------\",self.__dict__)\n",
    "        self.__dict__.update(adapter_method)\n",
    "        \n",
    "        \n",
    "        print(self.__dict__)\n",
    "    def __getattr__(self,attr):\n",
    "        print(\"HEREEEEEEEEEEEE\")\n",
    "        print(\"--------------------\",attr)\n",
    "        print(self._object)\n",
    "        return getattr(self._object,attr)"
   ]
  },
  {
   "cell_type": "code",
   "execution_count": 19,
   "metadata": {},
   "outputs": [
    {
     "name": "stdout",
     "output_type": "stream",
     "text": [
      "{'_object': <__main__.SpeechMatics object at 0x7fc70455bf28>, 'transcribe': <bound method SpeechMatics.transcribe_with_sm of <__main__.SpeechMatics object at 0x7fc70455bf28>>}\n",
      "{'_object': <__main__.Microsoft object at 0x7fc704596c50>, 'transcribe': <bound method Microsoft.transcribe_with_ms of <__main__.Microsoft object at 0x7fc704596c50>>}\n"
     ]
    }
   ],
   "source": [
    "objects = []\n",
    "speechmatics = SpeechMatics()\n",
    "microsoft = Microsoft()\n",
    "objects.append(Adapter(speechmatics,transcribe=speechmatics.transcribe_with_sm))\n",
    "objects.append(Adapter(microsoft,transcribe=microsoft.transcribe_with_ms))"
   ]
  },
  {
   "cell_type": "code",
   "execution_count": 20,
   "metadata": {},
   "outputs": [
    {
     "name": "stdout",
     "output_type": "stream",
     "text": [
      "transcribing with SM\n",
      "transcribing with MicS\n"
     ]
    }
   ],
   "source": [
    "for i in objects:\n",
    "    print(i.transcribe(\"here is some data\"))"
   ]
  },
  {
   "cell_type": "code",
   "execution_count": 23,
   "metadata": {},
   "outputs": [],
   "source": [
    "engine = SpeechMatics(url=\"someurl\",diarization=True)"
   ]
  },
  {
   "cell_type": "code",
   "execution_count": 24,
   "metadata": {},
   "outputs": [
    {
     "name": "stdout",
     "output_type": "stream",
     "text": [
      "{'_object': <__main__.SpeechMatics object at 0x7fc70456a7b8>, 'transcribe': <bound method SpeechMatics.transcribe_with_sm of <__main__.SpeechMatics object at 0x7fc70456a7b8>>}\n"
     ]
    }
   ],
   "source": [
    "STT = Adapter(engine,transcribe=engine.transcribe_with_sm)"
   ]
  },
  {
   "cell_type": "code",
   "execution_count": 25,
   "metadata": {},
   "outputs": [
    {
     "data": {
      "text/plain": [
       "'transcribing with SM'"
      ]
     },
     "execution_count": 25,
     "metadata": {},
     "output_type": "execute_result"
    }
   ],
   "source": [
    "STT.transcribe(\"HERE IS SOME DATA\")"
   ]
  },
  {
   "cell_type": "code",
   "execution_count": 4,
   "metadata": {},
   "outputs": [],
   "source": [
    "engine = Microsoft(url=\"someurl\",output_type=\"json\")"
   ]
  },
  {
   "cell_type": "code",
   "execution_count": 5,
   "metadata": {},
   "outputs": [
    {
     "name": "stdout",
     "output_type": "stream",
     "text": [
      "{'_object': <__main__.Microsoft object at 0x7f6114416048>, 'transcribe': <bound method Microsoft.transcribe_with_ms of <__main__.Microsoft object at 0x7f6114416048>>}\n"
     ]
    }
   ],
   "source": [
    "STT = Adapter(engine,transcribe=engine.transcribe_with_ms)"
   ]
  },
  {
   "cell_type": "code",
   "execution_count": 6,
   "metadata": {},
   "outputs": [
    {
     "name": "stdout",
     "output_type": "stream",
     "text": [
      "HEREEEEEEEEEEEE\n",
      "-------------------- _output\n",
      "<__main__.Microsoft object at 0x7f6114416048>\n"
     ]
    },
    {
     "data": {
      "text/plain": [
       "'json'"
      ]
     },
     "execution_count": 6,
     "metadata": {},
     "output_type": "execute_result"
    }
   ],
   "source": [
    "STT.transcribe(\"here is some data\")\n",
    "STT._output"
   ]
  },
  {
   "cell_type": "markdown",
   "metadata": {},
   "source": [
    "## Composite Pattern"
   ]
  },
  {
   "cell_type": "code",
   "execution_count": 155,
   "metadata": {},
   "outputs": [],
   "source": [
    "class Component(object):\n",
    "    \"\"\"Abstract class\"\"\"\n",
    "\n",
    "    def __init__(self, *args, **kwargs):\n",
    "        pass\n",
    "\n",
    "    def component_function(self,tire):\n",
    "        pass"
   ]
  },
  {
   "cell_type": "code",
   "execution_count": 156,
   "metadata": {},
   "outputs": [],
   "source": [
    "class Child(Component): #Inherits from the abstract class, Component\n",
    "    \"\"\"Concrete class\"\"\"\n",
    "\n",
    "    def __init__(self, *args, **kwargs):\n",
    "        Component.__init__(self, *args, **kwargs)\n",
    "\n",
    "        #This is where we store the name of your child item!\n",
    "        self.name = args[0]\n",
    "        \n",
    "    def component_function(self,tire):\n",
    "        #Print the name of your child item here!\n",
    "        print(\"--\"*tire+\"{}\".format(self.name))"
   ]
  },
  {
   "cell_type": "code",
   "execution_count": 157,
   "metadata": {},
   "outputs": [],
   "source": [
    "class Composite(Component): #Inherits from the abstract class, Component\n",
    "    \"\"\"Concrete class and maintains the tree recursive structure\"\"\"\n",
    "\n",
    "    def __init__(self, *args, **kwargs):\n",
    "        Component.__init__(self, *args, **kwargs)\n",
    "\n",
    "        #This is where we store the name of the composite object\n",
    "        self.name = args[0]\n",
    "\n",
    "        #This is where we keep our child items\n",
    "        self.children = []\n",
    "\n",
    "    def append_child(self, child):\n",
    "        \"\"\"Method to add a new child item\"\"\"\n",
    "        self.children.append(child)\n",
    "\n",
    "    def remove_child(self, child):\n",
    "        \"\"\"Method to remove a child item\"\"\"\n",
    "        self.children.remove(child)\n",
    "\n",
    "    def component_function(self,tire):\n",
    "        #Print the name of the composite object\n",
    "\n",
    "        print(\"--\"*tire+\"{}\".format(self.name))\n",
    "        tire+=1\n",
    "\n",
    "        #Iterate through the child objects and invoke their component function printing their names\n",
    "        for i in self.children:\n",
    "            i.component_function(tire)\n",
    "            "
   ]
  },
  {
   "cell_type": "code",
   "execution_count": 158,
   "metadata": {},
   "outputs": [
    {
     "name": "stdout",
     "output_type": "stream",
     "text": [
      "--top_menu\n",
      "----submenu1\n",
      "------sub_submenu 11\n",
      "------sub_submenu 12\n",
      "--------sub_sub_submenu 121\n",
      "--------sub_sub_submenu 122\n",
      "----------sub_sub_sub_submenu 1221\n",
      "----------sub_sub_sub_submenu 1222\n",
      "----submenu2\n"
     ]
    }
   ],
   "source": [
    "#Build a composite submenu 1\n",
    "sub1 = Composite(\"submenu1\")\n",
    "\n",
    "#Create a new child sub_submenu 11\n",
    "sub11 = Child(\"sub_submenu 11\")\n",
    "\n",
    "#Create a new composite sub_submenu 12\n",
    "sub12 = Composite(\"sub_submenu 12\")\n",
    "\n",
    "# create a child of s_sub12 --> s_s_sub121\n",
    "sub121 = Child(\"sub_sub_submenu 121\")\n",
    "\n",
    "# create a child of s_sub12 --> s_s_sub122\n",
    "sub122 = Composite(\"sub_sub_submenu 122\")\n",
    "\n",
    "sub1221 = Child(\"sub_sub_sub_submenu 1221\")\n",
    "\n",
    "sub1222 = Child(\"sub_sub_sub_submenu 1222\")\n",
    "\n",
    "sub122.append_child(sub1221)\n",
    "sub122.append_child(sub1222)\n",
    "\n",
    "# add the child s_s_sub121\n",
    "sub12.append_child(sub121)\n",
    "\n",
    "# add the child s_s_sub122\n",
    "sub12.append_child(sub122)\n",
    "\n",
    "\n",
    "#Add the sub_submenu 11 to submenu 1\n",
    "sub1.append_child(sub11)\n",
    "#Add the sub_submenu 12 to submenu 1\n",
    "sub1.append_child(sub12)\n",
    "\n",
    "#Build a top-level composite menu\n",
    "top = Composite(\"top_menu\")\n",
    "\n",
    "#Build a submenu 2 that is not a composite\n",
    "sub2 = Child(\"submenu2\")\n",
    "\n",
    "#Add the composite submenu 1 to the top-level composite menu\n",
    "top.append_child(sub1)\n",
    "\n",
    "#Add the plain submenu 2 to the top-level composite menu\n",
    "top.append_child(sub2)\n",
    "\n",
    "#Let's test if our Composite pattern works!\n",
    "top.component_function(1)\n"
   ]
  },
  {
   "cell_type": "markdown",
   "metadata": {},
   "source": [
    "## Bridge Patter"
   ]
  },
  {
   "cell_type": "code",
   "execution_count": 159,
   "metadata": {},
   "outputs": [],
   "source": [
    "class DrawingAPIOne(object):\n",
    "    \"\"\"Implementation-specific abstraction: concrete class one\"\"\"\n",
    "    def draw_circle(self, x, y, radius):\n",
    "        print(\"API 1 drawing a circle at ({}, {} with radius {}!)\".format(x, y, radius))"
   ]
  },
  {
   "cell_type": "code",
   "execution_count": 160,
   "metadata": {},
   "outputs": [],
   "source": [
    "class DrawingAPITwo(object):\n",
    "    \"\"\"Implementation-specific abstraction: concrete class two\"\"\"\n",
    "    def draw_circle(self, x, y, radius):\n",
    "        print(\"API 2 drawing a circle at ({}, {} with radius {}!)\".format(x, y, radius))"
   ]
  },
  {
   "cell_type": "code",
   "execution_count": 161,
   "metadata": {},
   "outputs": [],
   "source": [
    "class Circle(object):\n",
    "    \"\"\"Implementation-independent abstraction: for example, there could be a rectangle class!\"\"\"\n",
    "\n",
    "    def __init__(self, x, y, radius, drawing_api):\n",
    "        \"\"\"Initialize the necessary attributes\"\"\"\n",
    "        self._x = x\n",
    "        self._y = y\n",
    "        self._radius = radius\n",
    "        self._drawing_api = drawing_api\n",
    "\n",
    "    def draw(self):\n",
    "        \"\"\"Implementation-specific abstraction taken care of by another class: DrawingAPI\"\"\"\n",
    "        self._drawing_api.draw_circle(self._x, self._y, self._radius)\n",
    "\n",
    "    def scale(self, percent):\n",
    "        \"\"\"Implementation-independent\"\"\"\n",
    "        self._radius *= percent"
   ]
  },
  {
   "cell_type": "code",
   "execution_count": 163,
   "metadata": {},
   "outputs": [
    {
     "name": "stdout",
     "output_type": "stream",
     "text": [
      "API 1 drawing a circle at (1, 2 with radius 3!)\n",
      "API 2 drawing a circle at (2, 3 with radius 4!)\n",
      "API 2 drawing a circle at (2, 3 with radius 12!)\n"
     ]
    }
   ],
   "source": [
    "#Build the first Circle object using API One\n",
    "circle1 = Circle(1, 2, 3, DrawingAPIOne())\n",
    "#Draw a circle\n",
    "circle1.draw()\n",
    "\n",
    "#Build the second Circle object using API Two\n",
    "circle2 = Circle(2, 3, 4, DrawingAPITwo())\n",
    "#Draw a circle\n",
    "circle2.draw()\n",
    "\n",
    "circle2.scale(3)\n",
    "circle2.draw()"
   ]
  },
  {
   "cell_type": "code",
   "execution_count": null,
   "metadata": {},
   "outputs": [],
   "source": []
  }
 ],
 "metadata": {
  "kernelspec": {
   "display_name": "Python 3",
   "language": "python",
   "name": "python3"
  },
  "language_info": {
   "codemirror_mode": {
    "name": "ipython",
    "version": 3
   },
   "file_extension": ".py",
   "mimetype": "text/x-python",
   "name": "python",
   "nbconvert_exporter": "python",
   "pygments_lexer": "ipython3",
   "version": "3.6.8"
  }
 },
 "nbformat": 4,
 "nbformat_minor": 2
}
