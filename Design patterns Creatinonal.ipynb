{
 "cells": [
  {
   "cell_type": "markdown",
   "metadata": {},
   "source": [
    "#        ----------------------------- DESIGN PATTERNS -----------------------\n",
    "#        ______CREATIONAL PATTERNS"
   ]
  },
  {
   "cell_type": "markdown",
   "metadata": {},
   "source": [
    "## Factory "
   ]
  },
  {
   "cell_type": "code",
   "execution_count": 40,
   "metadata": {},
   "outputs": [],
   "source": [
    "class Dog:\n",
    "    # a simple class\n",
    "    def __init__(self, name):\n",
    "        self._name = name\n",
    "    def speak(self):\n",
    "        return \"woof!\""
   ]
  },
  {
   "cell_type": "code",
   "execution_count": 41,
   "metadata": {},
   "outputs": [],
   "source": [
    "class Cat:\n",
    "    # a simple class\n",
    "    def __init__(self, name):\n",
    "        self._name = name\n",
    "    def speak(self):\n",
    "        return \"meaw!\""
   ]
  },
  {
   "cell_type": "code",
   "execution_count": 42,
   "metadata": {},
   "outputs": [],
   "source": [
    "def get_pet(pet:\"dog\"):\n",
    "    # factory method\n",
    "    pets = dict(dog=Dog(\"tabby\"),cat=Cat(\"kitty\"),)\n",
    "    return pets[pet]"
   ]
  },
  {
   "cell_type": "code",
   "execution_count": 43,
   "metadata": {},
   "outputs": [
    {
     "name": "stdout",
     "output_type": "stream",
     "text": [
      "woof!\n",
      "meaw!\n"
     ]
    }
   ],
   "source": [
    "d = get_pet(\"dog\")\n",
    "\n",
    "print(d.speak())\n",
    "\n",
    "c = get_pet(\"cat\")\n",
    "\n",
    "print(c.speak())"
   ]
  },
  {
   "cell_type": "markdown",
   "metadata": {},
   "source": [
    "## Abstract Factory"
   ]
  },
  {
   "cell_type": "code",
   "execution_count": 73,
   "metadata": {},
   "outputs": [],
   "source": [
    "class Dog:\n",
    "    \"\"\"One of the objects to be returned\"\"\"\n",
    "    def speak(self):\n",
    "        return \"Woof!\"\n",
    "\n",
    "    def __str__(self):\n",
    "        return \"Dog\""
   ]
  },
  {
   "cell_type": "code",
   "execution_count": 74,
   "metadata": {},
   "outputs": [],
   "source": [
    "class DogFactory:\n",
    "    \"\"\"Concrete Factory\"\"\"\n",
    "    def get_pet(self):\n",
    "        \"\"\"Returns a Dog object\"\"\"\n",
    "        return Dog()\n",
    "\n",
    "    def get_food(self):\n",
    "        \"\"\"Returns a Dog Food object\"\"\"\n",
    "        return \"Dog Food!\""
   ]
  },
  {
   "cell_type": "code",
   "execution_count": 75,
   "metadata": {},
   "outputs": [],
   "source": [
    "class PetStore:\n",
    "    \"\"\" PetStore houses our Abstract Factory \"\"\"\n",
    "\n",
    "    def __init__(self, pet_factory=None):\n",
    "        \"\"\" pet_factory is our Abstract Factory \"\"\"\n",
    "\n",
    "        self._pet_factory = pet_factory\n",
    "\n",
    "\n",
    "    def show_pet(self):\n",
    "        \"\"\" Utility method to display the details of the objects retured by the DogFactory \"\"\"\n",
    "\n",
    "        pet = self._pet_factory.get_pet()\n",
    "        \n",
    "        pet_food = self._pet_factory.get_food()\n",
    "\n",
    "        print(\"Our pet is '{}'!\".format(pet))\n",
    "        print(\"Our pet says hello by '{}'\".format(pet.speak()))\n",
    "        print(\"Its food is '{}'!\".format(pet_food))"
   ]
  },
  {
   "cell_type": "code",
   "execution_count": 76,
   "metadata": {},
   "outputs": [
    {
     "name": "stdout",
     "output_type": "stream",
     "text": [
      "Our pet is 'Dog'!\n",
      "Our pet says hello by 'Woof!'\n",
      "Its food is 'Dog Food!'!\n"
     ]
    }
   ],
   "source": [
    "#Create a Concrete Factory\n",
    "factory = DogFactory()\n",
    "\n",
    "#Create a pet store housing our Abstract Factory\n",
    "shop = PetStore(factory)\n",
    "\n",
    "#Invoke the utility method to show the details of our pet\n",
    "shop.show_pet()"
   ]
  },
  {
   "cell_type": "markdown",
   "metadata": {},
   "source": [
    "## Singleton Pattern"
   ]
  },
  {
   "cell_type": "code",
   "execution_count": 37,
   "metadata": {},
   "outputs": [],
   "source": [
    "class Borg:\n",
    "    \"\"\"Borg pattern making the class attributes global\"\"\"\n",
    "    _shared_data = {\"count\":0} # Attribute dictionary\n",
    "\n",
    "    def __init__(self):\n",
    "        self.__dict__ = self._shared_data # Make it an attribute dictionary"
   ]
  },
  {
   "cell_type": "code",
   "execution_count": 40,
   "metadata": {},
   "outputs": [],
   "source": [
    "class Singleton(Borg): \n",
    "#Inherits from the Borg class\n",
    "#     \"\"\"This class now shares all its attributes among its various instances\"\"\"\n",
    "    #This essenstially makes the singleton objects an object-oriented global variable\n",
    "    \n",
    "    def __init__(self):\n",
    "#         print(self._shared_data)\n",
    "        Borg.__init__(self)\n",
    "        self._shared_data[\"count\"] += 1 # Update the attribute dictionary by inserting a new key-value pair \n",
    "    \n",
    "    def return_flag(self):\n",
    "        return self._shared_data\n",
    "#     def __str__(self):\n",
    "#         return str(self._shared_data) # Returns the attribute dictionary for printing\n",
    "\n",
    "#Let's create a singleton object and add our first acronym\n",
    " \n",
    "\n",
    "# #Let's create another singleton object and if it refers to the same attribute dictionary by adding another acronym.\n",
    "# y = Singleton(SNMP=\"mple Network Management Protocol\")\n",
    "# # Print the object\n",
    "# print(y)"
   ]
  },
  {
   "cell_type": "code",
   "execution_count": 39,
   "metadata": {},
   "outputs": [
    {
     "data": {
      "text/plain": [
       "{'count': 1}"
      ]
     },
     "execution_count": 39,
     "metadata": {},
     "output_type": "execute_result"
    }
   ],
   "source": [
    "x = Singleton()\n",
    "x._shared_data\n",
    "# Print the object\n",
    "# print(x.return_flag())"
   ]
  },
  {
   "cell_type": "code",
   "execution_count": 43,
   "metadata": {},
   "outputs": [
    {
     "data": {
      "text/plain": [
       "<__main__.Singleton at 0x7f8fcfcf3c88>"
      ]
     },
     "execution_count": 43,
     "metadata": {},
     "output_type": "execute_result"
    }
   ],
   "source": [
    "Singleton()"
   ]
  },
  {
   "cell_type": "code",
   "execution_count": 44,
   "metadata": {},
   "outputs": [
    {
     "data": {
      "text/plain": [
       "{'count': 3}"
      ]
     },
     "execution_count": 44,
     "metadata": {},
     "output_type": "execute_result"
    }
   ],
   "source": [
    "x._shared_data"
   ]
  },
  {
   "cell_type": "markdown",
   "metadata": {},
   "source": [
    "## Builder Pattern"
   ]
  },
  {
   "cell_type": "code",
   "execution_count": 35,
   "metadata": {},
   "outputs": [],
   "source": [
    "class Director():\n",
    "    \"\"\"Director\"\"\"\n",
    "    def __init__(self, builder):\n",
    "        print(builder)\n",
    "        self._builder = builder \n",
    "        \n",
    "    def construct_car(self):\n",
    "        self._builder.create_new_car()\n",
    "        self._builder.add_model()\n",
    "        self._builder.add_tires()\n",
    "        self._builder.add_engine()\n",
    "#         self._builder.super_def()\n",
    "        \n",
    "    def get_car(self):\n",
    "#         print(\"-------\",self._builder.car)\n",
    "        return self._builder.car\n",
    "        "
   ]
  },
  {
   "cell_type": "code",
   "execution_count": 36,
   "metadata": {},
   "outputs": [],
   "source": [
    " class Builder():\n",
    "    \"\"\"Abstract Builder\"\"\"\n",
    "    def __init__(self):\n",
    "        self.car = None \n",
    "        \n",
    "    def create_new_car(self):\n",
    "        self.car = Car()\n",
    "        "
   ]
  },
  {
   "cell_type": "code",
   "execution_count": 37,
   "metadata": {},
   "outputs": [],
   "source": [
    "class SkyLarkBuilder(Builder):\n",
    "    \"\"\"Concrete Builder --> provides parts and tools to work on the parts \"\"\"\n",
    "    \n",
    "    def super_def(self):\n",
    "        print(Builder)\n",
    "#         Builder.__init__(self)\n",
    "        print(Builder.create_new_car(self))\n",
    "#         print(\"From CONC\",self.car)\n",
    "#         Builder.create_new_car(self)\n",
    "    def add_model(self):\n",
    "        print(self.car.model)\n",
    "        self.car.model = \"Skylark\"\n",
    "        print(self.car.model)\n",
    "    def add_tires(self):\n",
    "        self.car.tires = \"Regular tires\"\n",
    "\n",
    "    def add_engine(self):    \n",
    "        self.car.engine = \"Turbo engine\""
   ]
  },
  {
   "cell_type": "code",
   "execution_count": 38,
   "metadata": {},
   "outputs": [],
   "source": [
    "class TeslaBuilder(Builder):\n",
    "    \"\"\"Concrete Builder --> provides parts and tools to work on the parts \"\"\"\n",
    "    \n",
    "    def super_def(self):\n",
    "        print(Builder)\n",
    "#         Builder.__init__(self)\n",
    "        print(Builder.create_new_car(self))\n",
    "#         print(\"From CONC\",self.car)\n",
    "#         Builder.create_new_car(self)\n",
    "    def add_model(self):\n",
    "        print(self.car.model)\n",
    "        self.car.model = \"Tesla\"\n",
    "        print(self.car.model)\n",
    "    def add_tires(self):\n",
    "        self.car.tires = \"Automatic tires\"\n",
    "\n",
    "    def add_engine(self):    \n",
    "        self.car.engine = \"Efficient engine\""
   ]
  },
  {
   "cell_type": "code",
   "execution_count": 45,
   "metadata": {},
   "outputs": [],
   "source": [
    "class Car():\n",
    "    \"\"\"Product\"\"\"\n",
    "    def __init__(self):\n",
    "        self.model = None\n",
    "        self.tires = None\n",
    "        self.engine = None\n",
    "        \n",
    "    def __str__(self):\n",
    "        return '{} | {} | {}'.format(self.model, self.tires, self.engine)"
   ]
  },
  {
   "cell_type": "code",
   "execution_count": 46,
   "metadata": {},
   "outputs": [
    {
     "name": "stdout",
     "output_type": "stream",
     "text": [
      "<__main__.SkyLarkBuilder object at 0x7f2979adcfd0>\n",
      "None\n",
      "Skylark\n",
      "Skylark | Regular tires | Turbo engine\n"
     ]
    }
   ],
   "source": [
    "builder = SkyLarkBuilder()\n",
    "director = Director(builder)\n",
    "director.construct_car()\n",
    "car = director.get_car()\n",
    "print(car)"
   ]
  },
  {
   "cell_type": "markdown",
   "metadata": {},
   "source": [
    "## Prototype"
   ]
  },
  {
   "cell_type": "code",
   "execution_count": 35,
   "metadata": {},
   "outputs": [],
   "source": [
    "import copy\n",
    "\n",
    "class Prototype:\n",
    "    \n",
    "    def __init__(self):\n",
    "        self._objects = {}\n",
    "        \n",
    "    def register_object(self, name, obj):\n",
    "        \"\"\"Register an object\"\"\"\n",
    "        print(obj,type(obj))\n",
    "        self._objects[name] = obj\n",
    "        print(type(self._objects))\n",
    "        print(\"--------------\\n\")\n",
    "        \n",
    "    def unregister_object(self, name):\n",
    "        \"\"\"Unregister an object\"\"\"\n",
    "        del self._objects[name]\n",
    "        \n",
    "    def clone(self, name, **kwargs):\n",
    "        \"\"\"Clone a registered object and update its attributes\"\"\"\n",
    "        \n",
    "\n",
    "        obj = copy.deepcopy(self._objects.get(name))\n",
    "        print(\"----\",obj.__dict__)\n",
    "        obj.__dict__.update(kwargs)\n",
    "        print(\"after updateing\")\n",
    "        print(obj.__dict__)\n",
    "        return obj"
   ]
  },
  {
   "cell_type": "code",
   "execution_count": 36,
   "metadata": {},
   "outputs": [],
   "source": [
    "class Car:\n",
    "    def __init__(self):\n",
    "        self.name = \"Skylark\"\n",
    "        self.color = \"Red\"\n",
    "        self.options = \"Ex\"\n",
    "        \n",
    "    def __str__(self):\n",
    "        return '{} | {} | {}'.format(self.name, self.color, self.options)"
   ]
  },
  {
   "cell_type": "code",
   "execution_count": 39,
   "metadata": {},
   "outputs": [
    {
     "name": "stdout",
     "output_type": "stream",
     "text": [
      "Skylark | Red | Ex <class '__main__.Car'>\n",
      "<class 'dict'>\n",
      "--------------\n",
      "\n",
      "---- {'name': 'Skylark', 'color': 'Red', 'options': 'Ex'}\n",
      "after updateing\n",
      "{'name': 'Skylark', 'color': 'red', 'options': 'New'}\n",
      "Skylark | red | New\n"
     ]
    }
   ],
   "source": [
    "c = Car()\n",
    "prototype = Prototype()\n",
    "prototype.register_object('skylark',c)\n",
    "new = {'options': 'New','color':'red'}\n",
    "c1 = prototype.clone('skylark', **new)\n",
    "\n",
    "print(c1)"
   ]
  },
  {
   "cell_type": "markdown",
   "metadata": {},
   "source": [
    "### deepcopy"
   ]
  },
  {
   "cell_type": "code",
   "execution_count": 56,
   "metadata": {},
   "outputs": [],
   "source": [
    "from copy import deepcopy\n",
    "col2 = deepcopy(col1)"
   ]
  },
  {
   "cell_type": "code",
   "execution_count": 33,
   "metadata": {},
   "outputs": [],
   "source": [
    "col2[2][0] = 'n'"
   ]
  },
  {
   "cell_type": "code",
   "execution_count": 34,
   "metadata": {},
   "outputs": [
    {
     "data": {
      "text/plain": [
       "['a', 'b', ['n', 'd']]"
      ]
     },
     "execution_count": 34,
     "metadata": {},
     "output_type": "execute_result"
    }
   ],
   "source": [
    "col2"
   ]
  },
  {
   "cell_type": "code",
   "execution_count": 112,
   "metadata": {},
   "outputs": [],
   "source": [
    "col1[1] = 5"
   ]
  },
  {
   "cell_type": "code",
   "execution_count": 113,
   "metadata": {},
   "outputs": [
    {
     "data": {
      "text/plain": [
       "[1, 5]"
      ]
     },
     "execution_count": 113,
     "metadata": {},
     "output_type": "execute_result"
    }
   ],
   "source": [
    "col2"
   ]
  },
  {
   "cell_type": "code",
   "execution_count": 134,
   "metadata": {},
   "outputs": [],
   "source": [
    "class code:\n",
    "    def __init__(self):\n",
    "        self.name = \"objects\"\n",
    "        self.color = \"black\"\n",
    "        self.options = \"pro\""
   ]
  },
  {
   "cell_type": "code",
   "execution_count": 135,
   "metadata": {},
   "outputs": [],
   "source": [
    "def register(name,obj):\n",
    "    obj_dict = {}\n",
    "    obj_dict[name] = obj\n",
    "    \n",
    "    return obj_dict"
   ]
  },
  {
   "cell_type": "code",
   "execution_count": 136,
   "metadata": {},
   "outputs": [],
   "source": [
    "c = code()"
   ]
  },
  {
   "cell_type": "code",
   "execution_count": 137,
   "metadata": {},
   "outputs": [
    {
     "data": {
      "text/plain": [
       "__main__.code"
      ]
     },
     "execution_count": 137,
     "metadata": {},
     "output_type": "execute_result"
    }
   ],
   "source": [
    "type(c)"
   ]
  },
  {
   "cell_type": "code",
   "execution_count": 139,
   "metadata": {},
   "outputs": [],
   "source": [
    "reg_dict = register('code',c)"
   ]
  },
  {
   "cell_type": "code",
   "execution_count": 143,
   "metadata": {},
   "outputs": [],
   "source": [
    "name = 'code'\n",
    "obj = copy.deepcopy(reg_dict.get(name))"
   ]
  },
  {
   "cell_type": "code",
   "execution_count": 145,
   "metadata": {},
   "outputs": [
    {
     "data": {
      "text/plain": [
       "'objects'"
      ]
     },
     "execution_count": 145,
     "metadata": {},
     "output_type": "execute_result"
    }
   ],
   "source": [
    "obj.name"
   ]
  },
  {
   "cell_type": "code",
   "execution_count": null,
   "metadata": {},
   "outputs": [],
   "source": []
  }
 ],
 "metadata": {
  "kernelspec": {
   "display_name": "Python 3",
   "language": "python",
   "name": "python3"
  },
  "language_info": {
   "codemirror_mode": {
    "name": "ipython",
    "version": 3
   },
   "file_extension": ".py",
   "mimetype": "text/x-python",
   "name": "python",
   "nbconvert_exporter": "python",
   "pygments_lexer": "ipython3",
   "version": "3.7.3"
  }
 },
 "nbformat": 4,
 "nbformat_minor": 2
}
